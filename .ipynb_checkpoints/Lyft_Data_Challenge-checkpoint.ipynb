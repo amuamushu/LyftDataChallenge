{
 "cells": [
  {
   "cell_type": "code",
   "execution_count": 308,
   "metadata": {
    "_cell_guid": "b1076dfc-b9ad-4769-8c92-a6c4dae69d19",
    "_uuid": "8f2839f25d086af736a60e9eeb907d3b93b6e0e5"
   },
   "outputs": [],
   "source": [
    "import numpy as np # linear algebra\n",
    "import pandas as pd # data processing, CSV file I/O (e.g. pd.read_csv)\n",
    "import os\n",
    "from datetime import datetime"
   ]
  },
  {
   "cell_type": "code",
   "execution_count": 309,
   "metadata": {
    "_cell_guid": "79c7e3d0-c299-4dcb-8224-4455121ee9b0",
    "_uuid": "d629ff2d2480ee46fbb7e2d37f6b5fab8052498a"
   },
   "outputs": [],
   "source": [
    "driver_id_path = 'driver_ids.csv'\n",
    "ride_id_path = 'ride_ids.csv'\n",
    "timestamps_path = 'ride_timestamps.csv'\n",
    "\n",
    "driver_ids = pd.read_csv(driver_id_path)\n",
    "ride_ids = pd.read_csv(ride_id_path)\n",
    "timestamps = pd.read_csv(timestamps_path)"
   ]
  },
  {
   "cell_type": "markdown",
   "metadata": {},
   "source": [
    "<h1> General Statistics on the Driver and Rides<h1>"
   ]
  },
  {
   "cell_type": "code",
   "execution_count": 310,
   "metadata": {},
   "outputs": [
    {
     "name": "stdout",
     "output_type": "stream",
     "text": [
      "Number of unique drives 937\n",
      "total number of rides 193502\n",
      "max number of rides by a single driver 919\n"
     ]
    },
    {
     "data": {
      "text/html": [
       "<div>\n",
       "<style scoped>\n",
       "    .dataframe tbody tr th:only-of-type {\n",
       "        vertical-align: middle;\n",
       "    }\n",
       "\n",
       "    .dataframe tbody tr th {\n",
       "        vertical-align: top;\n",
       "    }\n",
       "\n",
       "    .dataframe thead th {\n",
       "        text-align: right;\n",
       "    }\n",
       "</style>\n",
       "<table border=\"1\" class=\"dataframe\">\n",
       "  <thead>\n",
       "    <tr style=\"text-align: right;\">\n",
       "      <th></th>\n",
       "      <th>ride_id</th>\n",
       "    </tr>\n",
       "  </thead>\n",
       "  <tbody>\n",
       "    <tr>\n",
       "      <th>count</th>\n",
       "      <td>937.000000</td>\n",
       "    </tr>\n",
       "    <tr>\n",
       "      <th>mean</th>\n",
       "      <td>206.512273</td>\n",
       "    </tr>\n",
       "    <tr>\n",
       "      <th>std</th>\n",
       "      <td>173.254063</td>\n",
       "    </tr>\n",
       "    <tr>\n",
       "      <th>min</th>\n",
       "      <td>3.000000</td>\n",
       "    </tr>\n",
       "    <tr>\n",
       "      <th>25%</th>\n",
       "      <td>47.000000</td>\n",
       "    </tr>\n",
       "    <tr>\n",
       "      <th>50%</th>\n",
       "      <td>200.000000</td>\n",
       "    </tr>\n",
       "    <tr>\n",
       "      <th>75%</th>\n",
       "      <td>316.000000</td>\n",
       "    </tr>\n",
       "    <tr>\n",
       "      <th>max</th>\n",
       "      <td>919.000000</td>\n",
       "    </tr>\n",
       "  </tbody>\n",
       "</table>\n",
       "</div>"
      ],
      "text/plain": [
       "          ride_id\n",
       "count  937.000000\n",
       "mean   206.512273\n",
       "std    173.254063\n",
       "min      3.000000\n",
       "25%     47.000000\n",
       "50%    200.000000\n",
       "75%    316.000000\n",
       "max    919.000000"
      ]
     },
     "execution_count": 310,
     "metadata": {},
     "output_type": "execute_result"
    }
   ],
   "source": [
    "sep = ride_ids[['driver_id', 'ride_id']]\n",
    "\n",
    "print(\"Number of unique drives\", len(np.unique(sep['driver_id'])))\n",
    "print('total number of rides', sep.shape[0])\n",
    "grouped = sep.groupby('driver_id').count()\n",
    "print(\"max number of rides by a single driver\", max(grouped['ride_id']))\n",
    "grouped.describe()\n"
   ]
  },
  {
   "cell_type": "markdown",
   "metadata": {},
   "source": [
    "<h1> Driver Prime Time <h1>"
   ]
  },
  {
   "cell_type": "code",
   "execution_count": 311,
   "metadata": {},
   "outputs": [
    {
     "name": "stdout",
     "output_type": "stream",
     "text": [
      "Number of Rides done in each prime time\n"
     ]
    },
    {
     "data": {
      "text/html": [
       "<div>\n",
       "<style scoped>\n",
       "    .dataframe tbody tr th:only-of-type {\n",
       "        vertical-align: middle;\n",
       "    }\n",
       "\n",
       "    .dataframe tbody tr th {\n",
       "        vertical-align: top;\n",
       "    }\n",
       "\n",
       "    .dataframe thead th {\n",
       "        text-align: right;\n",
       "    }\n",
       "</style>\n",
       "<table border=\"1\" class=\"dataframe\">\n",
       "  <thead>\n",
       "    <tr style=\"text-align: right;\">\n",
       "      <th></th>\n",
       "      <th>ride_prime_time</th>\n",
       "      <th>number_of_rides</th>\n",
       "    </tr>\n",
       "  </thead>\n",
       "  <tbody>\n",
       "    <tr>\n",
       "      <th>0</th>\n",
       "      <td>0</td>\n",
       "      <td>125412</td>\n",
       "    </tr>\n",
       "    <tr>\n",
       "      <th>1</th>\n",
       "      <td>25</td>\n",
       "      <td>33677</td>\n",
       "    </tr>\n",
       "    <tr>\n",
       "      <th>2</th>\n",
       "      <td>50</td>\n",
       "      <td>17712</td>\n",
       "    </tr>\n",
       "    <tr>\n",
       "      <th>3</th>\n",
       "      <td>75</td>\n",
       "      <td>8208</td>\n",
       "    </tr>\n",
       "    <tr>\n",
       "      <th>4</th>\n",
       "      <td>100</td>\n",
       "      <td>6216</td>\n",
       "    </tr>\n",
       "    <tr>\n",
       "      <th>5</th>\n",
       "      <td>150</td>\n",
       "      <td>1686</td>\n",
       "    </tr>\n",
       "    <tr>\n",
       "      <th>6</th>\n",
       "      <td>200</td>\n",
       "      <td>432</td>\n",
       "    </tr>\n",
       "    <tr>\n",
       "      <th>7</th>\n",
       "      <td>250</td>\n",
       "      <td>101</td>\n",
       "    </tr>\n",
       "    <tr>\n",
       "      <th>8</th>\n",
       "      <td>300</td>\n",
       "      <td>31</td>\n",
       "    </tr>\n",
       "    <tr>\n",
       "      <th>9</th>\n",
       "      <td>350</td>\n",
       "      <td>15</td>\n",
       "    </tr>\n",
       "    <tr>\n",
       "      <th>10</th>\n",
       "      <td>400</td>\n",
       "      <td>11</td>\n",
       "    </tr>\n",
       "    <tr>\n",
       "      <th>11</th>\n",
       "      <td>500</td>\n",
       "      <td>1</td>\n",
       "    </tr>\n",
       "  </tbody>\n",
       "</table>\n",
       "</div>"
      ],
      "text/plain": [
       "    ride_prime_time  number_of_rides\n",
       "0                 0           125412\n",
       "1                25            33677\n",
       "2                50            17712\n",
       "3                75             8208\n",
       "4               100             6216\n",
       "5               150             1686\n",
       "6               200              432\n",
       "7               250              101\n",
       "8               300               31\n",
       "9               350               15\n",
       "10              400               11\n",
       "11              500                1"
      ]
     },
     "execution_count": 311,
     "metadata": {},
     "output_type": "execute_result"
    }
   ],
   "source": [
    "driver_prime = ride_ids[[\"driver_id\", \"ride_prime_time\"]]\n",
    "driver_prime_count = driver_prime.groupby('ride_prime_time').count()\n",
    "driver_prime_count.rename(columns={\"driver_id\": \"number_of_rides\"}, inplace=True)\n",
    "driver_prime_count.reset_index(level=0, inplace=True)\n",
    "print(\"Number of Rides done in each prime time\")\n",
    "driver_prime_count"
   ]
  },
  {
   "cell_type": "markdown",
   "metadata": {},
   "source": [
    "<h1> Calculating Driver Rentention <h1>"
   ]
  },
  {
   "cell_type": "code",
   "execution_count": 312,
   "metadata": {},
   "outputs": [
    {
     "name": "stdout",
     "output_type": "stream",
     "text": [
      "Number of rides is 184819\n"
     ]
    },
    {
     "data": {
      "text/html": [
       "<div>\n",
       "<style scoped>\n",
       "    .dataframe tbody tr th:only-of-type {\n",
       "        vertical-align: middle;\n",
       "    }\n",
       "\n",
       "    .dataframe tbody tr th {\n",
       "        vertical-align: top;\n",
       "    }\n",
       "\n",
       "    .dataframe thead th {\n",
       "        text-align: right;\n",
       "    }\n",
       "</style>\n",
       "<table border=\"1\" class=\"dataframe\">\n",
       "  <thead>\n",
       "    <tr style=\"text-align: right;\">\n",
       "      <th></th>\n",
       "      <th>ride_id</th>\n",
       "      <th>timestamp</th>\n",
       "      <th>driver_id</th>\n",
       "    </tr>\n",
       "  </thead>\n",
       "  <tbody>\n",
       "    <tr>\n",
       "      <th>0</th>\n",
       "      <td>00003037a262d9ee40e61b5c0718f7f0</td>\n",
       "      <td>2016-06-13 09:39:51</td>\n",
       "      <td>d967f5296732fa55266b5f1314e7447b</td>\n",
       "    </tr>\n",
       "    <tr>\n",
       "      <th>1</th>\n",
       "      <td>00005eae40882760d675da5effb89ae3</td>\n",
       "      <td>2016-05-14 05:23:25</td>\n",
       "      <td>0656192a402808805282e60761bda088</td>\n",
       "    </tr>\n",
       "    <tr>\n",
       "      <th>2</th>\n",
       "      <td>000061d42cf29f73b591041d9a1b2973</td>\n",
       "      <td>2016-05-16 15:43:14</td>\n",
       "      <td>c468a648519cd42da75e6aa9dadf733e</td>\n",
       "    </tr>\n",
       "    <tr>\n",
       "      <th>3</th>\n",
       "      <td>00006efeb0d5e3ccad7d921ddeee9900</td>\n",
       "      <td>2016-05-11 19:29:43</td>\n",
       "      <td>689bdf87fb2de49f98bf4946cfaa5068</td>\n",
       "    </tr>\n",
       "    <tr>\n",
       "      <th>4</th>\n",
       "      <td>00012759befd5d34a0609800f6a1ee59</td>\n",
       "      <td>2016-05-31 15:45:05</td>\n",
       "      <td>eece82fe623b4bb335a9b9e20eb0ca54</td>\n",
       "    </tr>\n",
       "  </tbody>\n",
       "</table>\n",
       "</div>"
      ],
      "text/plain": [
       "                            ride_id            timestamp  \\\n",
       "0  00003037a262d9ee40e61b5c0718f7f0  2016-06-13 09:39:51   \n",
       "1  00005eae40882760d675da5effb89ae3  2016-05-14 05:23:25   \n",
       "2  000061d42cf29f73b591041d9a1b2973  2016-05-16 15:43:14   \n",
       "3  00006efeb0d5e3ccad7d921ddeee9900  2016-05-11 19:29:43   \n",
       "4  00012759befd5d34a0609800f6a1ee59  2016-05-31 15:45:05   \n",
       "\n",
       "                          driver_id  \n",
       "0  d967f5296732fa55266b5f1314e7447b  \n",
       "1  0656192a402808805282e60761bda088  \n",
       "2  c468a648519cd42da75e6aa9dadf733e  \n",
       "3  689bdf87fb2de49f98bf4946cfaa5068  \n",
       "4  eece82fe623b4bb335a9b9e20eb0ca54  "
      ]
     },
     "execution_count": 312,
     "metadata": {},
     "output_type": "execute_result"
    }
   ],
   "source": [
    "# Get only one event for each ride\n",
    "uniq_rides = timestamps[timestamps['event'] == 'accepted_at'][['ride_id', 'timestamp']]\n",
    "# Matches rides with driver id\n",
    "driv_ride_time = pd.merge(uniq_rides, driv_ride, on='ride_id')\n",
    "print(\"Number of rides is\", driv_ride_time.shape[0])\n",
    "driv_ride_time.head()"
   ]
  },
  {
   "cell_type": "code",
   "execution_count": 313,
   "metadata": {},
   "outputs": [
    {
     "data": {
      "text/html": [
       "<div>\n",
       "<style scoped>\n",
       "    .dataframe tbody tr th:only-of-type {\n",
       "        vertical-align: middle;\n",
       "    }\n",
       "\n",
       "    .dataframe tbody tr th {\n",
       "        vertical-align: top;\n",
       "    }\n",
       "\n",
       "    .dataframe thead th {\n",
       "        text-align: right;\n",
       "    }\n",
       "</style>\n",
       "<table border=\"1\" class=\"dataframe\">\n",
       "  <thead>\n",
       "    <tr style=\"text-align: right;\">\n",
       "      <th></th>\n",
       "      <th>oldest_ride</th>\n",
       "      <th>latest_ride</th>\n",
       "    </tr>\n",
       "    <tr>\n",
       "      <th>driver_id</th>\n",
       "      <th></th>\n",
       "      <th></th>\n",
       "    </tr>\n",
       "  </thead>\n",
       "  <tbody>\n",
       "    <tr>\n",
       "      <th>002be0ffdc997bd5c50703158b7c2491</th>\n",
       "      <td>2016-03-29 18:47:01</td>\n",
       "      <td>2016-06-23 10:06:30</td>\n",
       "    </tr>\n",
       "    <tr>\n",
       "      <th>007f0389f9c7b03ef97098422f902e62</th>\n",
       "      <td>2016-03-29 22:28:34</td>\n",
       "      <td>2016-06-22 13:17:44</td>\n",
       "    </tr>\n",
       "    <tr>\n",
       "      <th>011e5c5dfc5c2c92501b8b24d47509bc</th>\n",
       "      <td>2016-04-05 10:55:00</td>\n",
       "      <td>2016-06-12 20:22:27</td>\n",
       "    </tr>\n",
       "    <tr>\n",
       "      <th>0152a2f305e71d26cc964f8d4411add9</th>\n",
       "      <td>2016-04-25 15:59:35</td>\n",
       "      <td>2016-06-26 10:16:39</td>\n",
       "    </tr>\n",
       "    <tr>\n",
       "      <th>01674381af7edd264113d4e6ed55ecda</th>\n",
       "      <td>2016-04-29 07:50:47</td>\n",
       "      <td>2016-06-24 13:03:42</td>\n",
       "    </tr>\n",
       "  </tbody>\n",
       "</table>\n",
       "</div>"
      ],
      "text/plain": [
       "                                          oldest_ride          latest_ride\n",
       "driver_id                                                                 \n",
       "002be0ffdc997bd5c50703158b7c2491  2016-03-29 18:47:01  2016-06-23 10:06:30\n",
       "007f0389f9c7b03ef97098422f902e62  2016-03-29 22:28:34  2016-06-22 13:17:44\n",
       "011e5c5dfc5c2c92501b8b24d47509bc  2016-04-05 10:55:00  2016-06-12 20:22:27\n",
       "0152a2f305e71d26cc964f8d4411add9  2016-04-25 15:59:35  2016-06-26 10:16:39\n",
       "01674381af7edd264113d4e6ed55ecda  2016-04-29 07:50:47  2016-06-24 13:03:42"
      ]
     },
     "execution_count": 313,
     "metadata": {},
     "output_type": "execute_result"
    }
   ],
   "source": [
    "# gets each driver's latest ride\n",
    "latest_ride = driv_ride_time.groupby('driver_id').max()\n",
    "latest_ride.rename(columns={'timestamp':'latest_ride'}, inplace=True)\n",
    "latest_ride.drop('ride_id', axis=1, inplace=True)\n",
    "\n",
    "# gets each driver's oldest ride\n",
    "oldest_ride = driv_ride_time.groupby('driver_id').min()\n",
    "oldest_ride.rename(columns={'timestamp':'oldest_ride'}, inplace=True)\n",
    "oldest_ride.drop('ride_id', axis=1, inplace=True)\n",
    "\n",
    "# Dataframe of driver id, oldest ride time, and latest ride time\n",
    "retention_raw = pd.merge(oldest_ride, latest_ride, on='driver_id')\n",
    "retention_raw.head()"
   ]
  },
  {
   "cell_type": "code",
   "execution_count": 314,
   "metadata": {},
   "outputs": [],
   "source": [
    "# Converts Oldest and Latest ride times to datatime objects for easier comparison\n",
    "to_date_obj = lambda x: datetime.strptime(x, '%Y-%m-%d %H:%M:%S').date()\n",
    "oldest_date_obj = retention_raw['oldest_ride'].apply(to_date_obj)\n",
    "latest_date_obj = retention_raw['latest_ride'].apply(to_date_obj)\n",
    "retention = pd.concat([oldest_date_obj,latest_date_obj], axis=1)\n",
    "\n",
    "retention['retention_period (in days)'] = (retention['latest_ride'] - retention['oldest_ride']).dt.days"
   ]
  },
  {
   "cell_type": "code",
   "execution_count": 315,
   "metadata": {},
   "outputs": [
    {
     "name": "stdout",
     "output_type": "stream",
     "text": [
      "There are 844 rows in the DataFrame and 844 unique drivers\n"
     ]
    },
    {
     "data": {
      "text/html": [
       "<div>\n",
       "<style scoped>\n",
       "    .dataframe tbody tr th:only-of-type {\n",
       "        vertical-align: middle;\n",
       "    }\n",
       "\n",
       "    .dataframe tbody tr th {\n",
       "        vertical-align: top;\n",
       "    }\n",
       "\n",
       "    .dataframe thead th {\n",
       "        text-align: right;\n",
       "    }\n",
       "</style>\n",
       "<table border=\"1\" class=\"dataframe\">\n",
       "  <thead>\n",
       "    <tr style=\"text-align: right;\">\n",
       "      <th></th>\n",
       "      <th>driver_id</th>\n",
       "      <th>retention_period (in days)</th>\n",
       "    </tr>\n",
       "  </thead>\n",
       "  <tbody>\n",
       "    <tr>\n",
       "      <th>0</th>\n",
       "      <td>002be0ffdc997bd5c50703158b7c2491</td>\n",
       "      <td>86</td>\n",
       "    </tr>\n",
       "    <tr>\n",
       "      <th>1</th>\n",
       "      <td>007f0389f9c7b03ef97098422f902e62</td>\n",
       "      <td>85</td>\n",
       "    </tr>\n",
       "    <tr>\n",
       "      <th>2</th>\n",
       "      <td>011e5c5dfc5c2c92501b8b24d47509bc</td>\n",
       "      <td>68</td>\n",
       "    </tr>\n",
       "    <tr>\n",
       "      <th>3</th>\n",
       "      <td>0152a2f305e71d26cc964f8d4411add9</td>\n",
       "      <td>62</td>\n",
       "    </tr>\n",
       "    <tr>\n",
       "      <th>4</th>\n",
       "      <td>01674381af7edd264113d4e6ed55ecda</td>\n",
       "      <td>56</td>\n",
       "    </tr>\n",
       "  </tbody>\n",
       "</table>\n",
       "</div>"
      ],
      "text/plain": [
       "                          driver_id  retention_period (in days)\n",
       "0  002be0ffdc997bd5c50703158b7c2491                          86\n",
       "1  007f0389f9c7b03ef97098422f902e62                          85\n",
       "2  011e5c5dfc5c2c92501b8b24d47509bc                          68\n",
       "3  0152a2f305e71d26cc964f8d4411add9                          62\n",
       "4  01674381af7edd264113d4e6ed55ecda                          56"
      ]
     },
     "execution_count": 315,
     "metadata": {},
     "output_type": "execute_result"
    }
   ],
   "source": [
    "# Creates DataFrame with only the Driver Id and the Retention Period\n",
    "driver_v_retention = retention.filter(['driver_id','retention_period (in days)'], axis=1)\n",
    "driver_v_retention.reset_index(level=0, inplace=True)\n",
    "\n",
    "print(\"There are \" + str(driver_v_retention.shape[0]) \n",
    "      + \" rows in the DataFrame and \" + str(len(np.unique(driver_v_retention['driver_id']))) \n",
    "      + \" unique drivers\")\n",
    "driver_v_retention.head()"
   ]
  },
  {
   "cell_type": "code",
   "execution_count": 316,
   "metadata": {},
   "outputs": [],
   "source": [
    "#Groups drivers by their retention period\n",
    "driver_retention_count = driver_v_retention.groupby('retention_period (in days)').count()\n",
    "driver_retention_count.reset_index(level=0, inplace=True)"
   ]
  },
  {
   "cell_type": "code",
   "execution_count": 317,
   "metadata": {},
   "outputs": [],
   "source": [
    "# driver_retention_count.to_csv('driver_ren.csv', index=False)"
   ]
  },
  {
   "cell_type": "markdown",
   "metadata": {},
   "source": [
    "<h1> Driver Statistics <h1>"
   ]
  },
  {
   "cell_type": "code",
   "execution_count": 318,
   "metadata": {
    "scrolled": true
   },
   "outputs": [
    {
     "data": {
      "text/html": [
       "<div>\n",
       "<style scoped>\n",
       "    .dataframe tbody tr th:only-of-type {\n",
       "        vertical-align: middle;\n",
       "    }\n",
       "\n",
       "    .dataframe tbody tr th {\n",
       "        vertical-align: top;\n",
       "    }\n",
       "\n",
       "    .dataframe thead th {\n",
       "        text-align: right;\n",
       "    }\n",
       "</style>\n",
       "<table border=\"1\" class=\"dataframe\">\n",
       "  <thead>\n",
       "    <tr style=\"text-align: right;\">\n",
       "      <th></th>\n",
       "      <th>driver_id</th>\n",
       "      <th>avg_ride_distance</th>\n",
       "      <th>avg_ride_duration</th>\n",
       "      <th>avg_ride_prime_time</th>\n",
       "    </tr>\n",
       "  </thead>\n",
       "  <tbody>\n",
       "    <tr>\n",
       "      <th>0</th>\n",
       "      <td>002be0ffdc997bd5c50703158b7c2491</td>\n",
       "      <td>6282.624549</td>\n",
       "      <td>798.693141</td>\n",
       "      <td>19.404332</td>\n",
       "    </tr>\n",
       "    <tr>\n",
       "      <th>1</th>\n",
       "      <td>007f0389f9c7b03ef97098422f902e62</td>\n",
       "      <td>3791.322581</td>\n",
       "      <td>661.193548</td>\n",
       "      <td>20.161290</td>\n",
       "    </tr>\n",
       "    <tr>\n",
       "      <th>2</th>\n",
       "      <td>011e5c5dfc5c2c92501b8b24d47509bc</td>\n",
       "      <td>7930.970588</td>\n",
       "      <td>858.970588</td>\n",
       "      <td>19.852941</td>\n",
       "    </tr>\n",
       "    <tr>\n",
       "      <th>3</th>\n",
       "      <td>0152a2f305e71d26cc964f8d4411add9</td>\n",
       "      <td>7702.821990</td>\n",
       "      <td>913.722513</td>\n",
       "      <td>10.732984</td>\n",
       "    </tr>\n",
       "    <tr>\n",
       "      <th>4</th>\n",
       "      <td>01674381af7edd264113d4e6ed55ecda</td>\n",
       "      <td>8329.717333</td>\n",
       "      <td>953.181333</td>\n",
       "      <td>12.533333</td>\n",
       "    </tr>\n",
       "  </tbody>\n",
       "</table>\n",
       "</div>"
      ],
      "text/plain": [
       "                          driver_id  avg_ride_distance  avg_ride_duration  \\\n",
       "0  002be0ffdc997bd5c50703158b7c2491        6282.624549         798.693141   \n",
       "1  007f0389f9c7b03ef97098422f902e62        3791.322581         661.193548   \n",
       "2  011e5c5dfc5c2c92501b8b24d47509bc        7930.970588         858.970588   \n",
       "3  0152a2f305e71d26cc964f8d4411add9        7702.821990         913.722513   \n",
       "4  01674381af7edd264113d4e6ed55ecda        8329.717333         953.181333   \n",
       "\n",
       "   avg_ride_prime_time  \n",
       "0            19.404332  \n",
       "1            20.161290  \n",
       "2            19.852941  \n",
       "3            10.732984  \n",
       "4            12.533333  "
      ]
     },
     "execution_count": 318,
     "metadata": {},
     "output_type": "execute_result"
    }
   ],
   "source": [
    "# The statistics for every single driver\n",
    "mean_stats_by_driver = ride_ids.groupby(\"driver_id\").mean()\n",
    "mean_stats_by_driver.reset_index(level=0, inplace=True)\n",
    "mean_stats_by_driver.rename(columns=\n",
    "                            {\"ride_distance\": \"avg_ride_distance\", \n",
    "                             \"ride_duration\": \"avg_ride_duration\", \n",
    "                             \"ride_prime_time\": \"avg_ride_prime_time\"}, inplace=True)\n",
    "mean_stats_by_driver.head()"
   ]
  },
  {
   "cell_type": "markdown",
   "metadata": {},
   "source": [
    "<h1> Calculating the Formula <h1>"
   ]
  },
  {
   "cell_type": "markdown",
   "metadata": {},
   "source": [
    "<h2> Prime Time Percentile <h2>"
   ]
  },
  {
   "cell_type": "code",
   "execution_count": 319,
   "metadata": {},
   "outputs": [],
   "source": [
    "prime_time = ride_ids[['driver_id', 'ride_prime_time']]\n",
    "prime_time_sum = prime_time.groupby(\"driver_id\").sum().sort_values(by=\"ride_prime_time\", ascending=False)\n",
    "highest_prime_t = prime_time_sum.iloc[0][0]\n",
    "percentile = lambda x: x / highest_prime_t\n",
    "prime_time_sum['prime_time_percentile'] = prime_time_sum['ride_prime_time'].apply(percentile)"
   ]
  },
  {
   "cell_type": "code",
   "execution_count": 320,
   "metadata": {},
   "outputs": [
    {
     "data": {
      "text/html": [
       "<div>\n",
       "<style scoped>\n",
       "    .dataframe tbody tr th:only-of-type {\n",
       "        vertical-align: middle;\n",
       "    }\n",
       "\n",
       "    .dataframe tbody tr th {\n",
       "        vertical-align: top;\n",
       "    }\n",
       "\n",
       "    .dataframe thead th {\n",
       "        text-align: right;\n",
       "    }\n",
       "</style>\n",
       "<table border=\"1\" class=\"dataframe\">\n",
       "  <thead>\n",
       "    <tr style=\"text-align: right;\">\n",
       "      <th></th>\n",
       "      <th>prime_time_percentile</th>\n",
       "    </tr>\n",
       "    <tr>\n",
       "      <th>driver_id</th>\n",
       "      <th></th>\n",
       "    </tr>\n",
       "  </thead>\n",
       "  <tbody>\n",
       "    <tr>\n",
       "      <th>002be0ffdc997bd5c50703158b7c2491</th>\n",
       "      <td>0.273189</td>\n",
       "    </tr>\n",
       "    <tr>\n",
       "      <th>007f0389f9c7b03ef97098422f902e62</th>\n",
       "      <td>0.031766</td>\n",
       "    </tr>\n",
       "    <tr>\n",
       "      <th>011e5c5dfc5c2c92501b8b24d47509bc</th>\n",
       "      <td>0.034307</td>\n",
       "    </tr>\n",
       "    <tr>\n",
       "      <th>0152a2f305e71d26cc964f8d4411add9</th>\n",
       "      <td>0.104193</td>\n",
       "    </tr>\n",
       "    <tr>\n",
       "      <th>01674381af7edd264113d4e6ed55ecda</th>\n",
       "      <td>0.238882</td>\n",
       "    </tr>\n",
       "  </tbody>\n",
       "</table>\n",
       "</div>"
      ],
      "text/plain": [
       "                                  prime_time_percentile\n",
       "driver_id                                              \n",
       "002be0ffdc997bd5c50703158b7c2491               0.273189\n",
       "007f0389f9c7b03ef97098422f902e62               0.031766\n",
       "011e5c5dfc5c2c92501b8b24d47509bc               0.034307\n",
       "0152a2f305e71d26cc964f8d4411add9               0.104193\n",
       "01674381af7edd264113d4e6ed55ecda               0.238882"
      ]
     },
     "execution_count": 320,
     "metadata": {},
     "output_type": "execute_result"
    }
   ],
   "source": [
    "prime_time_percentile = prime_time_sum.drop(columns='ride_prime_time').sort_values(by='driver_id')\n",
    "prime_time_percentile.head()"
   ]
  },
  {
   "cell_type": "markdown",
   "metadata": {},
   "source": [
    "<h2> Driver Retention (Sorted) <h2>"
   ]
  },
  {
   "cell_type": "code",
   "execution_count": 402,
   "metadata": {},
   "outputs": [
    {
     "data": {
      "text/html": [
       "<div>\n",
       "<style scoped>\n",
       "    .dataframe tbody tr th:only-of-type {\n",
       "        vertical-align: middle;\n",
       "    }\n",
       "\n",
       "    .dataframe tbody tr th {\n",
       "        vertical-align: top;\n",
       "    }\n",
       "\n",
       "    .dataframe thead th {\n",
       "        text-align: right;\n",
       "    }\n",
       "</style>\n",
       "<table border=\"1\" class=\"dataframe\">\n",
       "  <thead>\n",
       "    <tr style=\"text-align: right;\">\n",
       "      <th></th>\n",
       "      <th>driver_id</th>\n",
       "      <th>rent_perc</th>\n",
       "    </tr>\n",
       "  </thead>\n",
       "  <tbody>\n",
       "    <tr>\n",
       "      <th>0</th>\n",
       "      <td>002be0ffdc997bd5c50703158b7c2491</td>\n",
       "      <td>0.955556</td>\n",
       "    </tr>\n",
       "    <tr>\n",
       "      <th>1</th>\n",
       "      <td>007f0389f9c7b03ef97098422f902e62</td>\n",
       "      <td>0.944444</td>\n",
       "    </tr>\n",
       "    <tr>\n",
       "      <th>2</th>\n",
       "      <td>011e5c5dfc5c2c92501b8b24d47509bc</td>\n",
       "      <td>0.755556</td>\n",
       "    </tr>\n",
       "    <tr>\n",
       "      <th>3</th>\n",
       "      <td>0152a2f305e71d26cc964f8d4411add9</td>\n",
       "      <td>0.688889</td>\n",
       "    </tr>\n",
       "    <tr>\n",
       "      <th>4</th>\n",
       "      <td>01674381af7edd264113d4e6ed55ecda</td>\n",
       "      <td>0.622222</td>\n",
       "    </tr>\n",
       "  </tbody>\n",
       "</table>\n",
       "</div>"
      ],
      "text/plain": [
       "                          driver_id  rent_perc\n",
       "0  002be0ffdc997bd5c50703158b7c2491   0.955556\n",
       "1  007f0389f9c7b03ef97098422f902e62   0.944444\n",
       "2  011e5c5dfc5c2c92501b8b24d47509bc   0.755556\n",
       "3  0152a2f305e71d26cc964f8d4411add9   0.688889\n",
       "4  01674381af7edd264113d4e6ed55ecda   0.622222"
      ]
     },
     "execution_count": 402,
     "metadata": {},
     "output_type": "execute_result"
    }
   ],
   "source": [
    "# Sorted Driver Retention by Driver id\n",
    "driv_rent = driver_v_retention\n",
    "driv_rent.sort_values(by='driver_id', inplace=True)\n",
    "\n",
    "max_driv_rent = driv_rent['retention_period (in days)'].max()\n",
    "driv_rent_perc = lambda x : x / max_driv_rent\n",
    "\n",
    "driv_rent['rent_perc'] = driv_rent['retention_period (in days)'].apply(driv_rent_perc)\n",
    "driv_rent = driv_rent[['driver_id', 'rent_perc']]\n",
    "\n",
    "driv_rent.head()"
   ]
  },
  {
   "cell_type": "markdown",
   "metadata": {},
   "source": [
    "<h2> Number of Rides per Driver <h2>"
   ]
  },
  {
   "cell_type": "code",
   "execution_count": 398,
   "metadata": {},
   "outputs": [
    {
     "data": {
      "text/html": [
       "<div>\n",
       "<style scoped>\n",
       "    .dataframe tbody tr th:only-of-type {\n",
       "        vertical-align: middle;\n",
       "    }\n",
       "\n",
       "    .dataframe tbody tr th {\n",
       "        vertical-align: top;\n",
       "    }\n",
       "\n",
       "    .dataframe thead th {\n",
       "        text-align: right;\n",
       "    }\n",
       "</style>\n",
       "<table border=\"1\" class=\"dataframe\">\n",
       "  <thead>\n",
       "    <tr style=\"text-align: right;\">\n",
       "      <th></th>\n",
       "      <th>driver_id</th>\n",
       "      <th>num_rides_percentile</th>\n",
       "    </tr>\n",
       "  </thead>\n",
       "  <tbody>\n",
       "    <tr>\n",
       "      <th>0</th>\n",
       "      <td>002be0ffdc997bd5c50703158b7c2491</td>\n",
       "      <td>0.301415</td>\n",
       "    </tr>\n",
       "    <tr>\n",
       "      <th>1</th>\n",
       "      <td>007f0389f9c7b03ef97098422f902e62</td>\n",
       "      <td>0.033732</td>\n",
       "    </tr>\n",
       "    <tr>\n",
       "      <th>2</th>\n",
       "      <td>011e5c5dfc5c2c92501b8b24d47509bc</td>\n",
       "      <td>0.036997</td>\n",
       "    </tr>\n",
       "    <tr>\n",
       "      <th>3</th>\n",
       "      <td>0152a2f305e71d26cc964f8d4411add9</td>\n",
       "      <td>0.207835</td>\n",
       "    </tr>\n",
       "    <tr>\n",
       "      <th>4</th>\n",
       "      <td>01674381af7edd264113d4e6ed55ecda</td>\n",
       "      <td>0.408052</td>\n",
       "    </tr>\n",
       "  </tbody>\n",
       "</table>\n",
       "</div>"
      ],
      "text/plain": [
       "                          driver_id  num_rides_percentile\n",
       "0  002be0ffdc997bd5c50703158b7c2491              0.301415\n",
       "1  007f0389f9c7b03ef97098422f902e62              0.033732\n",
       "2  011e5c5dfc5c2c92501b8b24d47509bc              0.036997\n",
       "3  0152a2f305e71d26cc964f8d4411add9              0.207835\n",
       "4  01674381af7edd264113d4e6ed55ecda              0.408052"
      ]
     },
     "execution_count": 398,
     "metadata": {},
     "output_type": "execute_result"
    }
   ],
   "source": [
    "num_rides_per_driver = ride_ids[['driver_id', 'ride_id']].groupby('driver_id').count()\n",
    "num_rides_per_driver.rename(columns={'ride_id' : 'number_of_rides'}, inplace=True)\n",
    "num_rides_per_driver.reset_index(level=0, inplace=True)\n",
    "num_rides_per_driver.sort_values(by='driver_id', inplace=True)\n",
    "\n",
    "max_num_rides = num_rides_per_driver['number_of_rides'].max()\n",
    "num_rides_percentile = lambda x : x / max_num_rides\n",
    "num_rides_per_driver['num_rides_percentile'] = num_rides_per_driver['number_of_rides'].apply(num_rides_percentile)\n",
    "\n",
    "num_rides_per_driver = num_rides_per_driver[['driver_id', 'num_rides_percentile']]\n",
    "\n",
    "num_rides_per_driver.head()"
   ]
  },
  {
   "cell_type": "markdown",
   "metadata": {},
   "source": [
    "<h2> Driver Distance Sum <h2>"
   ]
  },
  {
   "cell_type": "code",
   "execution_count": 403,
   "metadata": {},
   "outputs": [
    {
     "data": {
      "text/html": [
       "<div>\n",
       "<style scoped>\n",
       "    .dataframe tbody tr th:only-of-type {\n",
       "        vertical-align: middle;\n",
       "    }\n",
       "\n",
       "    .dataframe tbody tr th {\n",
       "        vertical-align: top;\n",
       "    }\n",
       "\n",
       "    .dataframe thead th {\n",
       "        text-align: right;\n",
       "    }\n",
       "</style>\n",
       "<table border=\"1\" class=\"dataframe\">\n",
       "  <thead>\n",
       "    <tr style=\"text-align: right;\">\n",
       "      <th></th>\n",
       "      <th>dist_percentile</th>\n",
       "    </tr>\n",
       "    <tr>\n",
       "      <th>driver_id</th>\n",
       "      <th></th>\n",
       "    </tr>\n",
       "  </thead>\n",
       "  <tbody>\n",
       "    <tr>\n",
       "      <th>002be0ffdc997bd5c50703158b7c2491</th>\n",
       "      <td>0.262558</td>\n",
       "    </tr>\n",
       "    <tr>\n",
       "      <th>007f0389f9c7b03ef97098422f902e62</th>\n",
       "      <td>0.017732</td>\n",
       "    </tr>\n",
       "    <tr>\n",
       "      <th>011e5c5dfc5c2c92501b8b24d47509bc</th>\n",
       "      <td>0.040683</td>\n",
       "    </tr>\n",
       "    <tr>\n",
       "      <th>0152a2f305e71d26cc964f8d4411add9</th>\n",
       "      <td>0.221967</td>\n",
       "    </tr>\n",
       "    <tr>\n",
       "      <th>01674381af7edd264113d4e6ed55ecda</th>\n",
       "      <td>0.471266</td>\n",
       "    </tr>\n",
       "  </tbody>\n",
       "</table>\n",
       "</div>"
      ],
      "text/plain": [
       "                                  dist_percentile\n",
       "driver_id                                        \n",
       "002be0ffdc997bd5c50703158b7c2491         0.262558\n",
       "007f0389f9c7b03ef97098422f902e62         0.017732\n",
       "011e5c5dfc5c2c92501b8b24d47509bc         0.040683\n",
       "0152a2f305e71d26cc964f8d4411add9         0.221967\n",
       "01674381af7edd264113d4e6ed55ecda         0.471266"
      ]
     },
     "execution_count": 403,
     "metadata": {},
     "output_type": "execute_result"
    }
   ],
   "source": [
    "sum_ride_dist = ride_ids[['driver_id', 'ride_distance']]\n",
    "sum_ride_dist = sum_ride_dist.groupby('driver_id').sum().sort_values(by='driver_id')\n",
    "max_ride_dist = sum_ride_dist['ride_distance'].max()\n",
    "\n",
    "dist_percentile = lambda x : x / max_ride_dist\n",
    "\n",
    "sum_ride_dist['dist_percentile'] = sum_ride_dist['ride_distance'].apply(dist_percentile)\n",
    "sum_ride_dist.drop(columns='ride_distance', inplace=True)\n",
    "\n",
    "sum_ride_dist.head()"
   ]
  },
  {
   "cell_type": "markdown",
   "metadata": {},
   "source": [
    "<h2> Time to Accept Request in Seconds <h2>"
   ]
  },
  {
   "cell_type": "code",
   "execution_count": 391,
   "metadata": {},
   "outputs": [],
   "source": [
    "# Get requested at and accepted at events for each ride\n",
    "time_filt = timestamps[(timestamps['event'] == 'accepted_at') | (timestamps['event'] == 'requested_at')][['ride_id', 'event','timestamp']]\n",
    "ride_filt = ride_ids[['driver_id', 'ride_id']]\n",
    "\n",
    "# Matches rides with driver id\n",
    "time_event = pd.merge(ride_filt, time_filt, on='ride_id')\n",
    "to_time_obj = lambda x: pd.to_datetime(x, format = '%Y-%m-%d %H:%M:%S') # datetime obj w/h secs\n",
    "time_convt = time_event['timestamp'].apply(to_time_obj)"
   ]
  },
  {
   "cell_type": "code",
   "execution_count": 392,
   "metadata": {},
   "outputs": [],
   "source": [
    "time_event['timestamp'] = time_convt\n",
    "updated_t_e = time_event[['driver_id', 'ride_id', 'timestamp']]\n",
    "# grouped_time_event = updated_t_e.groupby('ride_id').diff()\n",
    "# grouped_time_event"
   ]
  },
  {
   "cell_type": "code",
   "execution_count": 385,
   "metadata": {},
   "outputs": [],
   "source": [
    "req_to_acc = pd.read_csv('request_to_accept.csv')\n",
    "req_to_acc = req_to_acc[['ride_id', 'wait_num']]\n",
    "\n",
    "driv_rid = ride_ids[['driver_id', 'ride_id']]\n",
    "\n",
    "wait_driv = pd.merge(req_to_acc, driv_rid, on='ride_id')\n",
    "max_wait = wait_driv['wait_num'].max()\n",
    "\n",
    "wait_percentile = lambda x : x / max_wait\n",
    "\n",
    "wait_driv['wait_percentile'] = wait_driv['wait_num'].apply(wait_percentile)\n",
    "wait_driv = wait_driv[['driver_id', 'wait_percentile']]"
   ]
  },
  {
   "cell_type": "markdown",
   "metadata": {},
   "source": [
    "<h2> Putting the Formula Together <h2>"
   ]
  },
  {
   "cell_type": "code",
   "execution_count": 406,
   "metadata": {},
   "outputs": [
    {
     "data": {
      "text/html": [
       "<div>\n",
       "<style scoped>\n",
       "    .dataframe tbody tr th:only-of-type {\n",
       "        vertical-align: middle;\n",
       "    }\n",
       "\n",
       "    .dataframe tbody tr th {\n",
       "        vertical-align: top;\n",
       "    }\n",
       "\n",
       "    .dataframe thead th {\n",
       "        text-align: right;\n",
       "    }\n",
       "</style>\n",
       "<table border=\"1\" class=\"dataframe\">\n",
       "  <thead>\n",
       "    <tr style=\"text-align: right;\">\n",
       "      <th></th>\n",
       "      <th>driver_id</th>\n",
       "      <th>prime_time_percentile</th>\n",
       "      <th>num_rides_percentile</th>\n",
       "      <th>rent_perc</th>\n",
       "      <th>dist_percentile</th>\n",
       "      <th>wait_percentile</th>\n",
       "    </tr>\n",
       "  </thead>\n",
       "  <tbody>\n",
       "    <tr>\n",
       "      <th>0</th>\n",
       "      <td>002be0ffdc997bd5c50703158b7c2491</td>\n",
       "      <td>0.273189</td>\n",
       "      <td>0.301415</td>\n",
       "      <td>0.955556</td>\n",
       "      <td>0.262558</td>\n",
       "      <td>0.006832</td>\n",
       "    </tr>\n",
       "    <tr>\n",
       "      <th>1</th>\n",
       "      <td>002be0ffdc997bd5c50703158b7c2491</td>\n",
       "      <td>0.273189</td>\n",
       "      <td>0.301415</td>\n",
       "      <td>0.955556</td>\n",
       "      <td>0.262558</td>\n",
       "      <td>0.000820</td>\n",
       "    </tr>\n",
       "    <tr>\n",
       "      <th>2</th>\n",
       "      <td>002be0ffdc997bd5c50703158b7c2491</td>\n",
       "      <td>0.273189</td>\n",
       "      <td>0.301415</td>\n",
       "      <td>0.955556</td>\n",
       "      <td>0.262558</td>\n",
       "      <td>0.002186</td>\n",
       "    </tr>\n",
       "    <tr>\n",
       "      <th>3</th>\n",
       "      <td>002be0ffdc997bd5c50703158b7c2491</td>\n",
       "      <td>0.273189</td>\n",
       "      <td>0.301415</td>\n",
       "      <td>0.955556</td>\n",
       "      <td>0.262558</td>\n",
       "      <td>0.001093</td>\n",
       "    </tr>\n",
       "    <tr>\n",
       "      <th>4</th>\n",
       "      <td>002be0ffdc997bd5c50703158b7c2491</td>\n",
       "      <td>0.273189</td>\n",
       "      <td>0.301415</td>\n",
       "      <td>0.955556</td>\n",
       "      <td>0.262558</td>\n",
       "      <td>0.000547</td>\n",
       "    </tr>\n",
       "  </tbody>\n",
       "</table>\n",
       "</div>"
      ],
      "text/plain": [
       "                          driver_id  prime_time_percentile  \\\n",
       "0  002be0ffdc997bd5c50703158b7c2491               0.273189   \n",
       "1  002be0ffdc997bd5c50703158b7c2491               0.273189   \n",
       "2  002be0ffdc997bd5c50703158b7c2491               0.273189   \n",
       "3  002be0ffdc997bd5c50703158b7c2491               0.273189   \n",
       "4  002be0ffdc997bd5c50703158b7c2491               0.273189   \n",
       "\n",
       "   num_rides_percentile  rent_perc  dist_percentile  wait_percentile  \n",
       "0              0.301415   0.955556         0.262558         0.006832  \n",
       "1              0.301415   0.955556         0.262558         0.000820  \n",
       "2              0.301415   0.955556         0.262558         0.002186  \n",
       "3              0.301415   0.955556         0.262558         0.001093  \n",
       "4              0.301415   0.955556         0.262558         0.000547  "
      ]
     },
     "execution_count": 406,
     "metadata": {},
     "output_type": "execute_result"
    }
   ],
   "source": [
    "comp_driv = pd.merge(prime_time_percentile, num_rides_per_driver, on='driver_id')\n",
    "comp_driv = pd.merge(comp_driv, driv_rent, on='driver_id')\n",
    "# comp_driv.drop(columns='retention_period (in days)_x') <-- Was getting an extra column earlier\n",
    "comp_driv.rename(columns={'retention_period (in days)' : 'rentention_in_days'},\n",
    "                 inplace=True)\n",
    "comp_driv = pd.merge(comp_driv, sum_ride_dist, on='driver_id')\n",
    "comp_driv = pd.merge(comp_driv, wait_driv, on='driver_id')\n",
    "comp_driv.head()"
   ]
  },
  {
   "cell_type": "code",
   "execution_count": 408,
   "metadata": {},
   "outputs": [
    {
     "data": {
      "text/plain": [
       "0.928966517523607"
      ]
     },
     "execution_count": 408,
     "metadata": {},
     "output_type": "execute_result"
    }
   ],
   "source": [
    "pt_weight = comp_driv['prime_time_percentile'] * 25/100\n",
    "rides_weight = comp_driv['num_rides_percentile'] * 25/100\n",
    "rent_weight = comp_driv['rent_perc'] * 25/100\n",
    "dist_weight = comp_driv['dist_percentile'] * 25/100\n",
    "wait_weight = comp_driv['wait_percentile'] * 20/100\n",
    "comp_driv['formula'] = pt_weight + rides_weight + rent_weight + dist_weight - wait_weight\n",
    "comp_driv['formula'].max()"
   ]
  },
  {
   "cell_type": "code",
   "execution_count": 396,
   "metadata": {},
   "outputs": [
    {
     "data": {
      "text/plain": [
       "0.013392857142857142"
      ]
     },
     "execution_count": 396,
     "metadata": {},
     "output_type": "execute_result"
    }
   ],
   "source": []
  },
  {
   "cell_type": "code",
   "execution_count": null,
   "metadata": {},
   "outputs": [],
   "source": []
  }
 ],
 "metadata": {
  "kernelspec": {
   "display_name": "Python 3",
   "language": "python",
   "name": "python3"
  }
 },
 "nbformat": 4,
 "nbformat_minor": 1
}
