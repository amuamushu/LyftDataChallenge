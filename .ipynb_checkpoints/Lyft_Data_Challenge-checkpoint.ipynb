{
 "cells": [
  {
   "cell_type": "code",
   "execution_count": 308,
   "metadata": {
    "_cell_guid": "b1076dfc-b9ad-4769-8c92-a6c4dae69d19",
    "_uuid": "8f2839f25d086af736a60e9eeb907d3b93b6e0e5"
   },
   "outputs": [],
   "source": [
    "import numpy as np # linear algebra\n",
    "import pandas as pd # data processing, CSV file I/O (e.g. pd.read_csv)\n",
    "import os\n",
    "from datetime import datetime"
   ]
  },
  {
   "cell_type": "code",
   "execution_count": 309,
   "metadata": {
    "_cell_guid": "79c7e3d0-c299-4dcb-8224-4455121ee9b0",
    "_uuid": "d629ff2d2480ee46fbb7e2d37f6b5fab8052498a"
   },
   "outputs": [],
   "source": [
    "driver_id_path = 'driver_ids.csv'\n",
    "ride_id_path = 'ride_ids.csv'\n",
    "timestamps_path = 'ride_timestamps.csv'\n",
    "\n",
    "driver_ids = pd.read_csv(driver_id_path)\n",
    "ride_ids = pd.read_csv(ride_id_path)\n",
    "timestamps = pd.read_csv(timestamps_path)"
   ]
  },
  {
   "cell_type": "markdown",
   "metadata": {},
   "source": [
    "<h1> General Statistics on the Driver and Rides<h1>"
   ]
  },
  {
   "cell_type": "code",
   "execution_count": 310,
   "metadata": {},
   "outputs": [
    {
     "name": "stdout",
     "output_type": "stream",
     "text": [
      "Number of unique drives 937\n",
      "total number of rides 193502\n",
      "max number of rides by a single driver 919\n"
     ]
    },
    {
     "data": {
      "text/html": [
       "<div>\n",
       "<style scoped>\n",
       "    .dataframe tbody tr th:only-of-type {\n",
       "        vertical-align: middle;\n",
       "    }\n",
       "\n",
       "    .dataframe tbody tr th {\n",
       "        vertical-align: top;\n",
       "    }\n",
       "\n",
       "    .dataframe thead th {\n",
       "        text-align: right;\n",
       "    }\n",
       "</style>\n",
       "<table border=\"1\" class=\"dataframe\">\n",
       "  <thead>\n",
       "    <tr style=\"text-align: right;\">\n",
       "      <th></th>\n",
       "      <th>ride_id</th>\n",
       "    </tr>\n",
       "  </thead>\n",
       "  <tbody>\n",
       "    <tr>\n",
       "      <th>count</th>\n",
       "      <td>937.000000</td>\n",
       "    </tr>\n",
       "    <tr>\n",
       "      <th>mean</th>\n",
       "      <td>206.512273</td>\n",
       "    </tr>\n",
       "    <tr>\n",
       "      <th>std</th>\n",
       "      <td>173.254063</td>\n",
       "    </tr>\n",
       "    <tr>\n",
       "      <th>min</th>\n",
       "      <td>3.000000</td>\n",
       "    </tr>\n",
       "    <tr>\n",
       "      <th>25%</th>\n",
       "      <td>47.000000</td>\n",
       "    </tr>\n",
       "    <tr>\n",
       "      <th>50%</th>\n",
       "      <td>200.000000</td>\n",
       "    </tr>\n",
       "    <tr>\n",
       "      <th>75%</th>\n",
       "      <td>316.000000</td>\n",
       "    </tr>\n",
       "    <tr>\n",
       "      <th>max</th>\n",
       "      <td>919.000000</td>\n",
       "    </tr>\n",
       "  </tbody>\n",
       "</table>\n",
       "</div>"
      ],
      "text/plain": [
       "          ride_id\n",
       "count  937.000000\n",
       "mean   206.512273\n",
       "std    173.254063\n",
       "min      3.000000\n",
       "25%     47.000000\n",
       "50%    200.000000\n",
       "75%    316.000000\n",
       "max    919.000000"
      ]
     },
     "execution_count": 310,
     "metadata": {},
     "output_type": "execute_result"
    }
   ],
   "source": [
    "sep = ride_ids[['driver_id', 'ride_id']]\n",
    "\n",
    "print(\"Number of unique drives\", len(np.unique(sep['driver_id'])))\n",
    "print('total number of rides', sep.shape[0])\n",
    "grouped = sep.groupby('driver_id').count()\n",
    "print(\"max number of rides by a single driver\", max(grouped['ride_id']))\n",
    "grouped.describe()\n"
   ]
  },
  {
   "cell_type": "markdown",
   "metadata": {},
   "source": [
    "<h1> Driver Prime Time <h1>"
   ]
  },
  {
   "cell_type": "code",
   "execution_count": 311,
   "metadata": {},
   "outputs": [
    {
     "name": "stdout",
     "output_type": "stream",
     "text": [
      "Number of Rides done in each prime time\n"
     ]
    },
    {
     "data": {
      "text/html": [
       "<div>\n",
       "<style scoped>\n",
       "    .dataframe tbody tr th:only-of-type {\n",
       "        vertical-align: middle;\n",
       "    }\n",
       "\n",
       "    .dataframe tbody tr th {\n",
       "        vertical-align: top;\n",
       "    }\n",
       "\n",
       "    .dataframe thead th {\n",
       "        text-align: right;\n",
       "    }\n",
       "</style>\n",
       "<table border=\"1\" class=\"dataframe\">\n",
       "  <thead>\n",
       "    <tr style=\"text-align: right;\">\n",
       "      <th></th>\n",
       "      <th>ride_prime_time</th>\n",
       "      <th>number_of_rides</th>\n",
       "    </tr>\n",
       "  </thead>\n",
       "  <tbody>\n",
       "    <tr>\n",
       "      <th>0</th>\n",
       "      <td>0</td>\n",
       "      <td>125412</td>\n",
       "    </tr>\n",
       "    <tr>\n",
       "      <th>1</th>\n",
       "      <td>25</td>\n",
       "      <td>33677</td>\n",
       "    </tr>\n",
       "    <tr>\n",
       "      <th>2</th>\n",
       "      <td>50</td>\n",
       "      <td>17712</td>\n",
       "    </tr>\n",
       "    <tr>\n",
       "      <th>3</th>\n",
       "      <td>75</td>\n",
       "      <td>8208</td>\n",
       "    </tr>\n",
       "    <tr>\n",
       "      <th>4</th>\n",
       "      <td>100</td>\n",
       "      <td>6216</td>\n",
       "    </tr>\n",
       "    <tr>\n",
       "      <th>5</th>\n",
       "      <td>150</td>\n",
       "      <td>1686</td>\n",
       "    </tr>\n",
       "    <tr>\n",
       "      <th>6</th>\n",
       "      <td>200</td>\n",
       "      <td>432</td>\n",
       "    </tr>\n",
       "    <tr>\n",
       "      <th>7</th>\n",
       "      <td>250</td>\n",
       "      <td>101</td>\n",
       "    </tr>\n",
       "    <tr>\n",
       "      <th>8</th>\n",
       "      <td>300</td>\n",
       "      <td>31</td>\n",
       "    </tr>\n",
       "    <tr>\n",
       "      <th>9</th>\n",
       "      <td>350</td>\n",
       "      <td>15</td>\n",
       "    </tr>\n",
       "    <tr>\n",
       "      <th>10</th>\n",
       "      <td>400</td>\n",
       "      <td>11</td>\n",
       "    </tr>\n",
       "    <tr>\n",
       "      <th>11</th>\n",
       "      <td>500</td>\n",
       "      <td>1</td>\n",
       "    </tr>\n",
       "  </tbody>\n",
       "</table>\n",
       "</div>"
      ],
      "text/plain": [
       "    ride_prime_time  number_of_rides\n",
       "0                 0           125412\n",
       "1                25            33677\n",
       "2                50            17712\n",
       "3                75             8208\n",
       "4               100             6216\n",
       "5               150             1686\n",
       "6               200              432\n",
       "7               250              101\n",
       "8               300               31\n",
       "9               350               15\n",
       "10              400               11\n",
       "11              500                1"
      ]
     },
     "execution_count": 311,
     "metadata": {},
     "output_type": "execute_result"
    }
   ],
   "source": [
    "driver_prime = ride_ids[[\"driver_id\", \"ride_prime_time\"]]\n",
    "driver_prime_count = driver_prime.groupby('ride_prime_time').count()\n",
    "driver_prime_count.rename(columns={\"driver_id\": \"number_of_rides\"}, inplace=True)\n",
    "driver_prime_count.reset_index(level=0, inplace=True)\n",
    "print(\"Number of Rides done in each prime time\")\n",
    "driver_prime_count"
   ]
  },
  {
   "cell_type": "markdown",
   "metadata": {},
   "source": [
    "<h1> Calculating Driver Rentention <h1>"
   ]
  },
  {
   "cell_type": "code",
   "execution_count": 312,
   "metadata": {},
   "outputs": [
    {
     "name": "stdout",
     "output_type": "stream",
     "text": [
      "Number of rides is 184819\n"
     ]
    },
    {
     "data": {
      "text/html": [
       "<div>\n",
       "<style scoped>\n",
       "    .dataframe tbody tr th:only-of-type {\n",
       "        vertical-align: middle;\n",
       "    }\n",
       "\n",
       "    .dataframe tbody tr th {\n",
       "        vertical-align: top;\n",
       "    }\n",
       "\n",
       "    .dataframe thead th {\n",
       "        text-align: right;\n",
       "    }\n",
       "</style>\n",
       "<table border=\"1\" class=\"dataframe\">\n",
       "  <thead>\n",
       "    <tr style=\"text-align: right;\">\n",
       "      <th></th>\n",
       "      <th>ride_id</th>\n",
       "      <th>timestamp</th>\n",
       "      <th>driver_id</th>\n",
       "    </tr>\n",
       "  </thead>\n",
       "  <tbody>\n",
       "    <tr>\n",
       "      <th>0</th>\n",
       "      <td>00003037a262d9ee40e61b5c0718f7f0</td>\n",
       "      <td>2016-06-13 09:39:51</td>\n",
       "      <td>d967f5296732fa55266b5f1314e7447b</td>\n",
       "    </tr>\n",
       "    <tr>\n",
       "      <th>1</th>\n",
       "      <td>00005eae40882760d675da5effb89ae3</td>\n",
       "      <td>2016-05-14 05:23:25</td>\n",
       "      <td>0656192a402808805282e60761bda088</td>\n",
       "    </tr>\n",
       "    <tr>\n",
       "      <th>2</th>\n",
       "      <td>000061d42cf29f73b591041d9a1b2973</td>\n",
       "      <td>2016-05-16 15:43:14</td>\n",
       "      <td>c468a648519cd42da75e6aa9dadf733e</td>\n",
       "    </tr>\n",
       "    <tr>\n",
       "      <th>3</th>\n",
       "      <td>00006efeb0d5e3ccad7d921ddeee9900</td>\n",
       "      <td>2016-05-11 19:29:43</td>\n",
       "      <td>689bdf87fb2de49f98bf4946cfaa5068</td>\n",
       "    </tr>\n",
       "    <tr>\n",
       "      <th>4</th>\n",
       "      <td>00012759befd5d34a0609800f6a1ee59</td>\n",
       "      <td>2016-05-31 15:45:05</td>\n",
       "      <td>eece82fe623b4bb335a9b9e20eb0ca54</td>\n",
       "    </tr>\n",
       "  </tbody>\n",
       "</table>\n",
       "</div>"
      ],
      "text/plain": [
       "                            ride_id            timestamp  \\\n",
       "0  00003037a262d9ee40e61b5c0718f7f0  2016-06-13 09:39:51   \n",
       "1  00005eae40882760d675da5effb89ae3  2016-05-14 05:23:25   \n",
       "2  000061d42cf29f73b591041d9a1b2973  2016-05-16 15:43:14   \n",
       "3  00006efeb0d5e3ccad7d921ddeee9900  2016-05-11 19:29:43   \n",
       "4  00012759befd5d34a0609800f6a1ee59  2016-05-31 15:45:05   \n",
       "\n",
       "                          driver_id  \n",
       "0  d967f5296732fa55266b5f1314e7447b  \n",
       "1  0656192a402808805282e60761bda088  \n",
       "2  c468a648519cd42da75e6aa9dadf733e  \n",
       "3  689bdf87fb2de49f98bf4946cfaa5068  \n",
       "4  eece82fe623b4bb335a9b9e20eb0ca54  "
      ]
     },
     "execution_count": 312,
     "metadata": {},
     "output_type": "execute_result"
    }
   ],
   "source": [
    "# Get only one event for each ride\n",
    "uniq_rides = timestamps[timestamps['event'] == 'accepted_at'][['ride_id', 'timestamp']]\n",
    "# Matches rides with driver id\n",
    "driv_ride_time = pd.merge(uniq_rides, driv_ride, on='ride_id')\n",
    "print(\"Number of rides is\", driv_ride_time.shape[0])\n",
    "driv_ride_time.head()"
   ]
  },
  {
   "cell_type": "code",
   "execution_count": 313,
   "metadata": {},
   "outputs": [
    {
     "data": {
      "text/html": [
       "<div>\n",
       "<style scoped>\n",
       "    .dataframe tbody tr th:only-of-type {\n",
       "        vertical-align: middle;\n",
       "    }\n",
       "\n",
       "    .dataframe tbody tr th {\n",
       "        vertical-align: top;\n",
       "    }\n",
       "\n",
       "    .dataframe thead th {\n",
       "        text-align: right;\n",
       "    }\n",
       "</style>\n",
       "<table border=\"1\" class=\"dataframe\">\n",
       "  <thead>\n",
       "    <tr style=\"text-align: right;\">\n",
       "      <th></th>\n",
       "      <th>oldest_ride</th>\n",
       "      <th>latest_ride</th>\n",
       "    </tr>\n",
       "    <tr>\n",
       "      <th>driver_id</th>\n",
       "      <th></th>\n",
       "      <th></th>\n",
       "    </tr>\n",
       "  </thead>\n",
       "  <tbody>\n",
       "    <tr>\n",
       "      <th>002be0ffdc997bd5c50703158b7c2491</th>\n",
       "      <td>2016-03-29 18:47:01</td>\n",
       "      <td>2016-06-23 10:06:30</td>\n",
       "    </tr>\n",
       "    <tr>\n",
       "      <th>007f0389f9c7b03ef97098422f902e62</th>\n",
       "      <td>2016-03-29 22:28:34</td>\n",
       "      <td>2016-06-22 13:17:44</td>\n",
       "    </tr>\n",
       "    <tr>\n",
       "      <th>011e5c5dfc5c2c92501b8b24d47509bc</th>\n",
       "      <td>2016-04-05 10:55:00</td>\n",
       "      <td>2016-06-12 20:22:27</td>\n",
       "    </tr>\n",
       "    <tr>\n",
       "      <th>0152a2f305e71d26cc964f8d4411add9</th>\n",
       "      <td>2016-04-25 15:59:35</td>\n",
       "      <td>2016-06-26 10:16:39</td>\n",
       "    </tr>\n",
       "    <tr>\n",
       "      <th>01674381af7edd264113d4e6ed55ecda</th>\n",
       "      <td>2016-04-29 07:50:47</td>\n",
       "      <td>2016-06-24 13:03:42</td>\n",
       "    </tr>\n",
       "  </tbody>\n",
       "</table>\n",
       "</div>"
      ],
      "text/plain": [
       "                                          oldest_ride          latest_ride\n",
       "driver_id                                                                 \n",
       "002be0ffdc997bd5c50703158b7c2491  2016-03-29 18:47:01  2016-06-23 10:06:30\n",
       "007f0389f9c7b03ef97098422f902e62  2016-03-29 22:28:34  2016-06-22 13:17:44\n",
       "011e5c5dfc5c2c92501b8b24d47509bc  2016-04-05 10:55:00  2016-06-12 20:22:27\n",
       "0152a2f305e71d26cc964f8d4411add9  2016-04-25 15:59:35  2016-06-26 10:16:39\n",
       "01674381af7edd264113d4e6ed55ecda  2016-04-29 07:50:47  2016-06-24 13:03:42"
      ]
     },
     "execution_count": 313,
     "metadata": {},
     "output_type": "execute_result"
    }
   ],
   "source": [
    "# gets each driver's latest ride\n",
    "latest_ride = driv_ride_time.groupby('driver_id').max()\n",
    "latest_ride.rename(columns={'timestamp':'latest_ride'}, inplace=True)\n",
    "latest_ride.drop('ride_id', axis=1, inplace=True)\n",
    "\n",
    "# gets each driver's oldest ride\n",
    "oldest_ride = driv_ride_time.groupby('driver_id').min()\n",
    "oldest_ride.rename(columns={'timestamp':'oldest_ride'}, inplace=True)\n",
    "oldest_ride.drop('ride_id', axis=1, inplace=True)\n",
    "\n",
    "# Dataframe of driver id, oldest ride time, and latest ride time\n",
    "retention_raw = pd.merge(oldest_ride, latest_ride, on='driver_id')\n",
    "retention_raw.head()"
   ]
  },
  {
   "cell_type": "code",
   "execution_count": 314,
   "metadata": {},
   "outputs": [],
   "source": [
    "# Converts Oldest and Latest ride times to datatime objects for easier comparison\n",
    "to_date_obj = lambda x: datetime.strptime(x, '%Y-%m-%d %H:%M:%S').date()\n",
    "oldest_date_obj = retention_raw['oldest_ride'].apply(to_date_obj)\n",
    "latest_date_obj = retention_raw['latest_ride'].apply(to_date_obj)\n",
    "retention = pd.concat([oldest_date_obj,latest_date_obj], axis=1)\n",
    "\n",
    "retention['retention_period (in days)'] = (retention['latest_ride'] - retention['oldest_ride']).dt.days"
   ]
  },
  {
   "cell_type": "code",
   "execution_count": 315,
   "metadata": {},
   "outputs": [
    {
     "name": "stdout",
     "output_type": "stream",
     "text": [
      "There are 844 rows in the DataFrame and 844 unique drivers\n"
     ]
    },
    {
     "data": {
      "text/html": [
       "<div>\n",
       "<style scoped>\n",
       "    .dataframe tbody tr th:only-of-type {\n",
       "        vertical-align: middle;\n",
       "    }\n",
       "\n",
       "    .dataframe tbody tr th {\n",
       "        vertical-align: top;\n",
       "    }\n",
       "\n",
       "    .dataframe thead th {\n",
       "        text-align: right;\n",
       "    }\n",
       "</style>\n",
       "<table border=\"1\" class=\"dataframe\">\n",
       "  <thead>\n",
       "    <tr style=\"text-align: right;\">\n",
       "      <th></th>\n",
       "      <th>driver_id</th>\n",
       "      <th>retention_period (in days)</th>\n",
       "    </tr>\n",
       "  </thead>\n",
       "  <tbody>\n",
       "    <tr>\n",
       "      <th>0</th>\n",
       "      <td>002be0ffdc997bd5c50703158b7c2491</td>\n",
       "      <td>86</td>\n",
       "    </tr>\n",
       "    <tr>\n",
       "      <th>1</th>\n",
       "      <td>007f0389f9c7b03ef97098422f902e62</td>\n",
       "      <td>85</td>\n",
       "    </tr>\n",
       "    <tr>\n",
       "      <th>2</th>\n",
       "      <td>011e5c5dfc5c2c92501b8b24d47509bc</td>\n",
       "      <td>68</td>\n",
       "    </tr>\n",
       "    <tr>\n",
       "      <th>3</th>\n",
       "      <td>0152a2f305e71d26cc964f8d4411add9</td>\n",
       "      <td>62</td>\n",
       "    </tr>\n",
       "    <tr>\n",
       "      <th>4</th>\n",
       "      <td>01674381af7edd264113d4e6ed55ecda</td>\n",
       "      <td>56</td>\n",
       "    </tr>\n",
       "  </tbody>\n",
       "</table>\n",
       "</div>"
      ],
      "text/plain": [
       "                          driver_id  retention_period (in days)\n",
       "0  002be0ffdc997bd5c50703158b7c2491                          86\n",
       "1  007f0389f9c7b03ef97098422f902e62                          85\n",
       "2  011e5c5dfc5c2c92501b8b24d47509bc                          68\n",
       "3  0152a2f305e71d26cc964f8d4411add9                          62\n",
       "4  01674381af7edd264113d4e6ed55ecda                          56"
      ]
     },
     "execution_count": 315,
     "metadata": {},
     "output_type": "execute_result"
    }
   ],
   "source": [
    "# Creates DataFrame with only the Driver Id and the Retention Period\n",
    "driver_v_retention = retention.filter(['driver_id','retention_period (in days)'], axis=1)\n",
    "driver_v_retention.reset_index(level=0, inplace=True)\n",
    "\n",
    "print(\"There are \" + str(driver_v_retention.shape[0]) \n",
    "      + \" rows in the DataFrame and \" + str(len(np.unique(driver_v_retention['driver_id']))) \n",
    "      + \" unique drivers\")\n",
    "driver_v_retention.head()"
   ]
  },
  {
   "cell_type": "code",
   "execution_count": 316,
   "metadata": {},
   "outputs": [],
   "source": [
    "#Groups drivers by their retention period\n",
    "driver_retention_count = driver_v_retention.groupby('retention_period (in days)').count()\n",
    "driver_retention_count.reset_index(level=0, inplace=True)"
   ]
  },
  {
   "cell_type": "code",
   "execution_count": 317,
   "metadata": {},
   "outputs": [],
   "source": [
    "# driver_retention_count.to_csv('driver_ren.csv', index=False)"
   ]
  },
  {
   "cell_type": "markdown",
   "metadata": {},
   "source": [
    "<h1> Driver Statistics <h1>"
   ]
  },
  {
   "cell_type": "code",
   "execution_count": 318,
   "metadata": {
    "scrolled": true
   },
   "outputs": [
    {
     "data": {
      "text/html": [
       "<div>\n",
       "<style scoped>\n",
       "    .dataframe tbody tr th:only-of-type {\n",
       "        vertical-align: middle;\n",
       "    }\n",
       "\n",
       "    .dataframe tbody tr th {\n",
       "        vertical-align: top;\n",
       "    }\n",
       "\n",
       "    .dataframe thead th {\n",
       "        text-align: right;\n",
       "    }\n",
       "</style>\n",
       "<table border=\"1\" class=\"dataframe\">\n",
       "  <thead>\n",
       "    <tr style=\"text-align: right;\">\n",
       "      <th></th>\n",
       "      <th>driver_id</th>\n",
       "      <th>avg_ride_distance</th>\n",
       "      <th>avg_ride_duration</th>\n",
       "      <th>avg_ride_prime_time</th>\n",
       "    </tr>\n",
       "  </thead>\n",
       "  <tbody>\n",
       "    <tr>\n",
       "      <th>0</th>\n",
       "      <td>002be0ffdc997bd5c50703158b7c2491</td>\n",
       "      <td>6282.624549</td>\n",
       "      <td>798.693141</td>\n",
       "      <td>19.404332</td>\n",
       "    </tr>\n",
       "    <tr>\n",
       "      <th>1</th>\n",
       "      <td>007f0389f9c7b03ef97098422f902e62</td>\n",
       "      <td>3791.322581</td>\n",
       "      <td>661.193548</td>\n",
       "      <td>20.161290</td>\n",
       "    </tr>\n",
       "    <tr>\n",
       "      <th>2</th>\n",
       "      <td>011e5c5dfc5c2c92501b8b24d47509bc</td>\n",
       "      <td>7930.970588</td>\n",
       "      <td>858.970588</td>\n",
       "      <td>19.852941</td>\n",
       "    </tr>\n",
       "    <tr>\n",
       "      <th>3</th>\n",
       "      <td>0152a2f305e71d26cc964f8d4411add9</td>\n",
       "      <td>7702.821990</td>\n",
       "      <td>913.722513</td>\n",
       "      <td>10.732984</td>\n",
       "    </tr>\n",
       "    <tr>\n",
       "      <th>4</th>\n",
       "      <td>01674381af7edd264113d4e6ed55ecda</td>\n",
       "      <td>8329.717333</td>\n",
       "      <td>953.181333</td>\n",
       "      <td>12.533333</td>\n",
       "    </tr>\n",
       "  </tbody>\n",
       "</table>\n",
       "</div>"
      ],
      "text/plain": [
       "                          driver_id  avg_ride_distance  avg_ride_duration  \\\n",
       "0  002be0ffdc997bd5c50703158b7c2491        6282.624549         798.693141   \n",
       "1  007f0389f9c7b03ef97098422f902e62        3791.322581         661.193548   \n",
       "2  011e5c5dfc5c2c92501b8b24d47509bc        7930.970588         858.970588   \n",
       "3  0152a2f305e71d26cc964f8d4411add9        7702.821990         913.722513   \n",
       "4  01674381af7edd264113d4e6ed55ecda        8329.717333         953.181333   \n",
       "\n",
       "   avg_ride_prime_time  \n",
       "0            19.404332  \n",
       "1            20.161290  \n",
       "2            19.852941  \n",
       "3            10.732984  \n",
       "4            12.533333  "
      ]
     },
     "execution_count": 318,
     "metadata": {},
     "output_type": "execute_result"
    }
   ],
   "source": [
    "# The statistics for every single driver\n",
    "mean_stats_by_driver = ride_ids.groupby(\"driver_id\").mean()\n",
    "mean_stats_by_driver.reset_index(level=0, inplace=True)\n",
    "mean_stats_by_driver.rename(columns=\n",
    "                            {\"ride_distance\": \"avg_ride_distance\", \n",
    "                             \"ride_duration\": \"avg_ride_duration\", \n",
    "                             \"ride_prime_time\": \"avg_ride_prime_time\"}, inplace=True)\n",
    "mean_stats_by_driver.head()"
   ]
  },
  {
   "cell_type": "markdown",
   "metadata": {},
   "source": [
    "<h1> Calculating the Formula <h1>"
   ]
  },
  {
   "cell_type": "markdown",
   "metadata": {},
   "source": [
    "<h2> Prime Time Percentile <h2>"
   ]
  },
  {
   "cell_type": "code",
   "execution_count": 319,
   "metadata": {},
   "outputs": [],
   "source": [
    "prime_time = ride_ids[['driver_id', 'ride_prime_time']]\n",
    "prime_time_sum = prime_time.groupby(\"driver_id\").sum().sort_values(by=\"ride_prime_time\", ascending=False)\n",
    "highest_prime_t = prime_time_sum.iloc[0][0]\n",
    "percentile = lambda x: x / highest_prime_t\n",
    "prime_time_sum['prime_time_percentile'] = prime_time_sum['ride_prime_time'].apply(percentile)"
   ]
  },
  {
   "cell_type": "code",
   "execution_count": 320,
   "metadata": {},
   "outputs": [
    {
     "data": {
      "text/html": [
       "<div>\n",
       "<style scoped>\n",
       "    .dataframe tbody tr th:only-of-type {\n",
       "        vertical-align: middle;\n",
       "    }\n",
       "\n",
       "    .dataframe tbody tr th {\n",
       "        vertical-align: top;\n",
       "    }\n",
       "\n",
       "    .dataframe thead th {\n",
       "        text-align: right;\n",
       "    }\n",
       "</style>\n",
       "<table border=\"1\" class=\"dataframe\">\n",
       "  <thead>\n",
       "    <tr style=\"text-align: right;\">\n",
       "      <th></th>\n",
       "      <th>prime_time_percentile</th>\n",
       "    </tr>\n",
       "    <tr>\n",
       "      <th>driver_id</th>\n",
       "      <th></th>\n",
       "    </tr>\n",
       "  </thead>\n",
       "  <tbody>\n",
       "    <tr>\n",
       "      <th>002be0ffdc997bd5c50703158b7c2491</th>\n",
       "      <td>0.273189</td>\n",
       "    </tr>\n",
       "    <tr>\n",
       "      <th>007f0389f9c7b03ef97098422f902e62</th>\n",
       "      <td>0.031766</td>\n",
       "    </tr>\n",
       "    <tr>\n",
       "      <th>011e5c5dfc5c2c92501b8b24d47509bc</th>\n",
       "      <td>0.034307</td>\n",
       "    </tr>\n",
       "    <tr>\n",
       "      <th>0152a2f305e71d26cc964f8d4411add9</th>\n",
       "      <td>0.104193</td>\n",
       "    </tr>\n",
       "    <tr>\n",
       "      <th>01674381af7edd264113d4e6ed55ecda</th>\n",
       "      <td>0.238882</td>\n",
       "    </tr>\n",
       "  </tbody>\n",
       "</table>\n",
       "</div>"
      ],
      "text/plain": [
       "                                  prime_time_percentile\n",
       "driver_id                                              \n",
       "002be0ffdc997bd5c50703158b7c2491               0.273189\n",
       "007f0389f9c7b03ef97098422f902e62               0.031766\n",
       "011e5c5dfc5c2c92501b8b24d47509bc               0.034307\n",
       "0152a2f305e71d26cc964f8d4411add9               0.104193\n",
       "01674381af7edd264113d4e6ed55ecda               0.238882"
      ]
     },
     "execution_count": 320,
     "metadata": {},
     "output_type": "execute_result"
    }
   ],
   "source": [
    "prime_time_percentile = prime_time_sum.drop(columns='ride_prime_time').sort_values(by='driver_id')\n",
    "prime_time_percentile.head()"
   ]
  },
  {
   "cell_type": "markdown",
   "metadata": {},
   "source": [
    "<h2> Driver Retention (Sorted) <h2>"
   ]
  },
  {
   "cell_type": "code",
   "execution_count": 321,
   "metadata": {},
   "outputs": [
    {
     "data": {
      "text/html": [
       "<div>\n",
       "<style scoped>\n",
       "    .dataframe tbody tr th:only-of-type {\n",
       "        vertical-align: middle;\n",
       "    }\n",
       "\n",
       "    .dataframe tbody tr th {\n",
       "        vertical-align: top;\n",
       "    }\n",
       "\n",
       "    .dataframe thead th {\n",
       "        text-align: right;\n",
       "    }\n",
       "</style>\n",
       "<table border=\"1\" class=\"dataframe\">\n",
       "  <thead>\n",
       "    <tr style=\"text-align: right;\">\n",
       "      <th></th>\n",
       "      <th>driver_id</th>\n",
       "      <th>retention_period (in days)</th>\n",
       "    </tr>\n",
       "  </thead>\n",
       "  <tbody>\n",
       "    <tr>\n",
       "      <th>0</th>\n",
       "      <td>002be0ffdc997bd5c50703158b7c2491</td>\n",
       "      <td>86</td>\n",
       "    </tr>\n",
       "    <tr>\n",
       "      <th>1</th>\n",
       "      <td>007f0389f9c7b03ef97098422f902e62</td>\n",
       "      <td>85</td>\n",
       "    </tr>\n",
       "    <tr>\n",
       "      <th>2</th>\n",
       "      <td>011e5c5dfc5c2c92501b8b24d47509bc</td>\n",
       "      <td>68</td>\n",
       "    </tr>\n",
       "    <tr>\n",
       "      <th>3</th>\n",
       "      <td>0152a2f305e71d26cc964f8d4411add9</td>\n",
       "      <td>62</td>\n",
       "    </tr>\n",
       "    <tr>\n",
       "      <th>4</th>\n",
       "      <td>01674381af7edd264113d4e6ed55ecda</td>\n",
       "      <td>56</td>\n",
       "    </tr>\n",
       "  </tbody>\n",
       "</table>\n",
       "</div>"
      ],
      "text/plain": [
       "                          driver_id  retention_period (in days)\n",
       "0  002be0ffdc997bd5c50703158b7c2491                          86\n",
       "1  007f0389f9c7b03ef97098422f902e62                          85\n",
       "2  011e5c5dfc5c2c92501b8b24d47509bc                          68\n",
       "3  0152a2f305e71d26cc964f8d4411add9                          62\n",
       "4  01674381af7edd264113d4e6ed55ecda                          56"
      ]
     },
     "execution_count": 321,
     "metadata": {},
     "output_type": "execute_result"
    }
   ],
   "source": [
    "# Sorted Driver Retention by Driver id\n",
    "driver_v_retention.sort_values(by='driver_id', inplace=True)\n",
    "driver_v_retention.head()"
   ]
  },
  {
   "cell_type": "markdown",
   "metadata": {},
   "source": [
    "<h2> Number of Rides per Driver <h2>"
   ]
  },
  {
   "cell_type": "code",
   "execution_count": 322,
   "metadata": {},
   "outputs": [
    {
     "data": {
      "text/html": [
       "<div>\n",
       "<style scoped>\n",
       "    .dataframe tbody tr th:only-of-type {\n",
       "        vertical-align: middle;\n",
       "    }\n",
       "\n",
       "    .dataframe tbody tr th {\n",
       "        vertical-align: top;\n",
       "    }\n",
       "\n",
       "    .dataframe thead th {\n",
       "        text-align: right;\n",
       "    }\n",
       "</style>\n",
       "<table border=\"1\" class=\"dataframe\">\n",
       "  <thead>\n",
       "    <tr style=\"text-align: right;\">\n",
       "      <th></th>\n",
       "      <th>driver_id</th>\n",
       "      <th>number_of_rides</th>\n",
       "    </tr>\n",
       "  </thead>\n",
       "  <tbody>\n",
       "    <tr>\n",
       "      <th>0</th>\n",
       "      <td>002be0ffdc997bd5c50703158b7c2491</td>\n",
       "      <td>277</td>\n",
       "    </tr>\n",
       "    <tr>\n",
       "      <th>1</th>\n",
       "      <td>007f0389f9c7b03ef97098422f902e62</td>\n",
       "      <td>31</td>\n",
       "    </tr>\n",
       "    <tr>\n",
       "      <th>2</th>\n",
       "      <td>011e5c5dfc5c2c92501b8b24d47509bc</td>\n",
       "      <td>34</td>\n",
       "    </tr>\n",
       "    <tr>\n",
       "      <th>3</th>\n",
       "      <td>0152a2f305e71d26cc964f8d4411add9</td>\n",
       "      <td>191</td>\n",
       "    </tr>\n",
       "    <tr>\n",
       "      <th>4</th>\n",
       "      <td>01674381af7edd264113d4e6ed55ecda</td>\n",
       "      <td>375</td>\n",
       "    </tr>\n",
       "  </tbody>\n",
       "</table>\n",
       "</div>"
      ],
      "text/plain": [
       "                          driver_id  number_of_rides\n",
       "0  002be0ffdc997bd5c50703158b7c2491              277\n",
       "1  007f0389f9c7b03ef97098422f902e62               31\n",
       "2  011e5c5dfc5c2c92501b8b24d47509bc               34\n",
       "3  0152a2f305e71d26cc964f8d4411add9              191\n",
       "4  01674381af7edd264113d4e6ed55ecda              375"
      ]
     },
     "execution_count": 322,
     "metadata": {},
     "output_type": "execute_result"
    }
   ],
   "source": [
    "num_rides_per_driver = ride_ids[['driver_id', 'ride_id']].groupby('driver_id').count()\n",
    "num_rides_per_driver.rename(columns={'ride_id' : 'number_of_rides'}, inplace=True)\n",
    "num_rides_per_driver.reset_index(level=0, inplace=True)\n",
    "num_rides_per_driver.sort_values(by='driver_id', inplace=True)\n",
    "num_rides_per_driver.head()"
   ]
  },
  {
   "cell_type": "markdown",
   "metadata": {},
   "source": [
    "<h2> Driver Distance Sum <h2>"
   ]
  },
  {
   "cell_type": "code",
   "execution_count": 332,
   "metadata": {},
   "outputs": [],
   "source": [
    "sum_ride_dist = ride_ids[['driver_id', 'ride_distance']]\n",
    "sum_ride_dist = sum_ride_dist.groupby('driver_id').sum().sort_values(by='driver_id')\n",
    "max_ride_dist = sum_ride_dist['ride_distance'].max()\n",
    "\n",
    "dist_percentile = lambda x : x / max_ride_dist\n",
    "\n",
    "sum_ride_dist['dist_percentile'] = sum_ride_dist['ride_distance'].apply(dist_percentile)\n",
    "sum_ride_dist.drop(columns='ride_distance', inplace=True)"
   ]
  },
  {
   "cell_type": "markdown",
   "metadata": {},
   "source": [
    "<h2> Putting the Formula Together <h2>"
   ]
  },
  {
   "cell_type": "code",
   "execution_count": 334,
   "metadata": {},
   "outputs": [
    {
     "data": {
      "text/html": [
       "<div>\n",
       "<style scoped>\n",
       "    .dataframe tbody tr th:only-of-type {\n",
       "        vertical-align: middle;\n",
       "    }\n",
       "\n",
       "    .dataframe tbody tr th {\n",
       "        vertical-align: top;\n",
       "    }\n",
       "\n",
       "    .dataframe thead th {\n",
       "        text-align: right;\n",
       "    }\n",
       "</style>\n",
       "<table border=\"1\" class=\"dataframe\">\n",
       "  <thead>\n",
       "    <tr style=\"text-align: right;\">\n",
       "      <th></th>\n",
       "      <th>driver_id</th>\n",
       "      <th>prime_time_percentile</th>\n",
       "      <th>number_of_rides</th>\n",
       "      <th>rentention_in_days</th>\n",
       "      <th>dist_percentile</th>\n",
       "    </tr>\n",
       "  </thead>\n",
       "  <tbody>\n",
       "    <tr>\n",
       "      <th>0</th>\n",
       "      <td>002be0ffdc997bd5c50703158b7c2491</td>\n",
       "      <td>0.273189</td>\n",
       "      <td>277</td>\n",
       "      <td>86</td>\n",
       "      <td>0.262558</td>\n",
       "    </tr>\n",
       "    <tr>\n",
       "      <th>1</th>\n",
       "      <td>007f0389f9c7b03ef97098422f902e62</td>\n",
       "      <td>0.031766</td>\n",
       "      <td>31</td>\n",
       "      <td>85</td>\n",
       "      <td>0.017732</td>\n",
       "    </tr>\n",
       "    <tr>\n",
       "      <th>2</th>\n",
       "      <td>011e5c5dfc5c2c92501b8b24d47509bc</td>\n",
       "      <td>0.034307</td>\n",
       "      <td>34</td>\n",
       "      <td>68</td>\n",
       "      <td>0.040683</td>\n",
       "    </tr>\n",
       "    <tr>\n",
       "      <th>3</th>\n",
       "      <td>0152a2f305e71d26cc964f8d4411add9</td>\n",
       "      <td>0.104193</td>\n",
       "      <td>191</td>\n",
       "      <td>62</td>\n",
       "      <td>0.221967</td>\n",
       "    </tr>\n",
       "    <tr>\n",
       "      <th>4</th>\n",
       "      <td>01674381af7edd264113d4e6ed55ecda</td>\n",
       "      <td>0.238882</td>\n",
       "      <td>375</td>\n",
       "      <td>56</td>\n",
       "      <td>0.471266</td>\n",
       "    </tr>\n",
       "  </tbody>\n",
       "</table>\n",
       "</div>"
      ],
      "text/plain": [
       "                          driver_id  prime_time_percentile  number_of_rides  \\\n",
       "0  002be0ffdc997bd5c50703158b7c2491               0.273189              277   \n",
       "1  007f0389f9c7b03ef97098422f902e62               0.031766               31   \n",
       "2  011e5c5dfc5c2c92501b8b24d47509bc               0.034307               34   \n",
       "3  0152a2f305e71d26cc964f8d4411add9               0.104193              191   \n",
       "4  01674381af7edd264113d4e6ed55ecda               0.238882              375   \n",
       "\n",
       "   rentention_in_days  dist_percentile  \n",
       "0                  86         0.262558  \n",
       "1                  85         0.017732  \n",
       "2                  68         0.040683  \n",
       "3                  62         0.221967  \n",
       "4                  56         0.471266  "
      ]
     },
     "execution_count": 334,
     "metadata": {},
     "output_type": "execute_result"
    }
   ],
   "source": [
    "comp_driv = pd.merge(prime_time_percentile, num_rides_per_driver, on='driver_id')\n",
    "comp_driv = pd.merge(comp_driv, driver_v_retention, on='driver_id')\n",
    "# comp_driv.drop(columns='retention_period (in days)_x') <-- Was getting an extra column earlier\n",
    "comp_driv.rename(columns={'retention_period (in days)' : 'rentention_in_days'},\n",
    "                 inplace=True)\n",
    "comp_driv = pd.merge(comp_driv, sum_ride_dist, on='driver_id')\n",
    "comp_driv.head()"
   ]
  },
  {
   "cell_type": "code",
   "execution_count": 335,
   "metadata": {},
   "outputs": [
    {
     "data": {
      "text/plain": [
       "0      0.065639\n",
       "1      0.004433\n",
       "2      0.010171\n",
       "3      0.055492\n",
       "4      0.117816\n",
       "5      0.058836\n",
       "6      0.009719\n",
       "7      0.092959\n",
       "8      0.111366\n",
       "9      0.060338\n",
       "10     0.017179\n",
       "11     0.059774\n",
       "12     0.009262\n",
       "13     0.080195\n",
       "14     0.051255\n",
       "15     0.085460\n",
       "16     0.009590\n",
       "17     0.017584\n",
       "18     0.097494\n",
       "19     0.013647\n",
       "20     0.011835\n",
       "21     0.084752\n",
       "22     0.015460\n",
       "23     0.099602\n",
       "24     0.008373\n",
       "25     0.094942\n",
       "26     0.063333\n",
       "27     0.004001\n",
       "28     0.034541\n",
       "29     0.006784\n",
       "         ...   \n",
       "814    0.008209\n",
       "815    0.008099\n",
       "816    0.123117\n",
       "817    0.014412\n",
       "818    0.007788\n",
       "819    0.014176\n",
       "820    0.078297\n",
       "821    0.009740\n",
       "822    0.014457\n",
       "823    0.020638\n",
       "824    0.072900\n",
       "825    0.029173\n",
       "826    0.017365\n",
       "827    0.081723\n",
       "828    0.070428\n",
       "829    0.087003\n",
       "830    0.068807\n",
       "831    0.002865\n",
       "832    0.054156\n",
       "833    0.014389\n",
       "834    0.008784\n",
       "835    0.134599\n",
       "836    0.085842\n",
       "837    0.067441\n",
       "838    0.009519\n",
       "839    0.075526\n",
       "840    0.106921\n",
       "841    0.006578\n",
       "842    0.110321\n",
       "843    0.089467\n",
       "Name: dist_percentile, Length: 844, dtype: float64"
      ]
     },
     "execution_count": 335,
     "metadata": {},
     "output_type": "execute_result"
    }
   ],
   "source": [
    "prime_time_weight = comp_driv['prime_time_percentile'] * 25/100\n",
    "freq_weight = (comp_driv['number_of_rides']/comp_driv['rentention_in_days']) * 25/100\n",
    "dist_weight = comp_driv['dist_percentile'] * 25/100\n",
    "dist_weight"
   ]
  },
  {
   "cell_type": "code",
   "execution_count": null,
   "metadata": {},
   "outputs": [],
   "source": []
  }
 ],
 "metadata": {
  "kernelspec": {
   "display_name": "Python 3",
   "language": "python",
   "name": "python3"
  }
 },
 "nbformat": 4,
 "nbformat_minor": 1
}
